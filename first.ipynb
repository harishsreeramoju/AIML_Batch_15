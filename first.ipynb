{
  "nbformat": 4,
  "nbformat_minor": 0,
  "metadata": {
    "colab": {
      "provenance": [],
      "authorship_tag": "ABX9TyPHxXBSGngD7ddnw9q8jOKH",
      "include_colab_link": true
    },
    "kernelspec": {
      "name": "python3",
      "display_name": "Python 3"
    },
    "language_info": {
      "name": "python"
    }
  },
  "cells": [
    {
      "cell_type": "markdown",
      "metadata": {
        "id": "view-in-github",
        "colab_type": "text"
      },
      "source": [
        "<a href=\"https://colab.research.google.com/github/harishsreeramoju/AIML_Batch_15/blob/main/first.ipynb\" target=\"_parent\"><img src=\"https://colab.research.google.com/assets/colab-badge.svg\" alt=\"Open In Colab\"/></a>"
      ]
    },
    {
      "cell_type": "code",
      "execution_count": 1,
      "metadata": {
        "colab": {
          "base_uri": "https://localhost:8080/"
        },
        "id": "VGZ93sjYs8uQ",
        "outputId": "a5ced341-8604-49c1-a78b-79912c321de9"
      },
      "outputs": [
        {
          "output_type": "stream",
          "name": "stdout",
          "text": [
            "[1, 2, 3, 43, 454]\n",
            "[  1   2   3  43 454]\n"
          ]
        }
      ],
      "source": [
        "import numpy as np\n",
        "var=[1,2,3,43,454]\n",
        "arry1=np.array(var)\n",
        "print(var)\n",
        "print(arry1)"
      ]
    }
  ]
}